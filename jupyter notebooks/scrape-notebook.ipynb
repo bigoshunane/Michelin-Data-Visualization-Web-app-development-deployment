{
 "cells": [
  {
   "cell_type": "code",
   "execution_count": 2,
   "id": "74eacee4",
   "metadata": {},
   "outputs": [],
   "source": [
    "# Dependencies\n",
    "from bs4 import BeautifulSoup\n",
    "import requests\n",
    "from flask_pymongo import PyMongo\n",
    "from splinter import Browser\n",
    "from bs4 import BeautifulSoup as bs\n",
    "import time\n",
    "from webdriver_manager.chrome import ChromeDriverManager\n",
    "import pandas as pd\n",
    "import pprint\n",
    "import more_itertools"
   ]
  },
  {
   "cell_type": "code",
   "execution_count": null,
   "id": "fe9f7a7a",
   "metadata": {},
   "outputs": [
    {
     "name": "stderr",
     "output_type": "stream",
     "text": [
      "\n",
      "\n",
      "====== WebDriver manager ======\n",
      "Current google-chrome version is 101.0.4951\n",
      "Get LATEST chromedriver version for 101.0.4951 google-chrome\n",
      "Driver [/Users/joshuabuckwalter/.wdm/drivers/chromedriver/mac64/101.0.4951.41/chromedriver] found in cache\n"
     ]
    },
    {
     "name": "stdout",
     "output_type": "stream",
     "text": [
      "1\n",
      "2\n",
      "3\n",
      "4\n",
      "5\n",
      "6\n",
      "7\n",
      "8\n",
      "9\n",
      "10\n",
      "11\n",
      "12\n",
      "13\n",
      "14\n",
      "15\n",
      "16\n",
      "17\n",
      "18\n",
      "19\n",
      "20\n",
      "21\n",
      "22\n",
      "23\n",
      "24\n",
      "25\n",
      "26\n",
      "27\n",
      "28\n",
      "29\n",
      "30\n",
      "31\n",
      "32\n",
      "33\n",
      "34\n",
      "35\n",
      "36\n",
      "37\n",
      "38\n",
      "39\n",
      "40\n",
      "41\n",
      "42\n",
      "43\n",
      "44\n",
      "45\n",
      "46\n",
      "47\n",
      "48\n",
      "49\n",
      "50\n",
      "51\n",
      "52\n",
      "53\n",
      "54\n",
      "55\n",
      "56\n",
      "57\n",
      "58\n",
      "59\n",
      "60\n",
      "61\n",
      "62\n",
      "63\n",
      "64\n",
      "65\n",
      "66\n",
      "67\n",
      "68\n"
     ]
    }
   ],
   "source": [
    "#scraping urls\n",
    "\n",
    "michelin_rest_url_a = 'https://guide.michelin.com/us/en/selection/united-states/restaurants/page/'\n",
    "\n",
    "mich_description_url = ''\n",
    "\n",
    "\n",
    "#set up browser and parser\n",
    "executable_path = {'executable_path': ChromeDriverManager().install()}\n",
    "browser = Browser('chrome', **executable_path, headless=False)\n",
    "\n",
    "# set up collection\n",
    "\n",
    "restaurant_url_count = 5\n",
    "count = 0\n",
    "restaurant_urls = []\n",
    "\n",
    "\n",
    "for x in range(69):\n",
    "    # retrieve michelin restaurant urls\n",
    "    x_string = str(count)\n",
    "    browser.visit(michelin_rest_url_a + x_string)\n",
    "    time.sleep(5)\n",
    "    html = browser.html\n",
    "    soup = bs(html, 'html.parser')\n",
    "    restaurant_urls.append([a['href'] for a in soup.find_all('a', class_=\"link\", href=True)])\n",
    "    count = count + 1\n",
    "    print(count)\n",
    "    \n",
    "\n",
    "print('Finished')"
   ]
  },
  {
   "cell_type": "code",
   "execution_count": 4,
   "id": "2506e1e1",
   "metadata": {},
   "outputs": [
    {
     "data": {
      "text/plain": [
       "[['/us/en/district-of-columbia/washington-dc/restaurant/hitching-post',\n",
       "  '/us/en/district-of-columbia/washington-dc/restaurant/timber-pizza-co',\n",
       "  '/us/en/district-of-columbia/washington-dc/restaurant/menya-hosaki',\n",
       "  '/us/en/district-of-columbia/washington-dc/restaurant/honeymoon-chicken',\n",
       "  '/us/en/district-of-columbia/washington-dc/restaurant/tsehay',\n",
       "  '/us/en/district-of-columbia/washington-dc/restaurant/taqueria-habanero',\n",
       "  '/us/en/district-of-columbia/washington-dc/restaurant/gravitas',\n",
       "  '/us/en/district-of-columbia/washington-dc/restaurant/ivy-city-smokehouse',\n",
       "  '/us/en/district-of-columbia/washington-dc/restaurant/queen’s-english',\n",
       "  '/us/en/district-of-columbia/washington-dc/restaurant/makan',\n",
       "  '/us/en/district-of-columbia/washington-dc/restaurant/thip-khao',\n",
       "  '/us/en/district-of-columbia/washington-dc/restaurant/bad-saint',\n",
       "  '/us/en/district-of-columbia/washington-dc/restaurant/sfoglina',\n",
       "  '/us/en/district-of-columbia/washington-dc/restaurant/elle',\n",
       "  '/us/en/district-of-columbia/washington-dc/restaurant/masseria',\n",
       "  '/us/en/district-of-columbia/washington-dc/restaurant/rappahannock-oyster-bar',\n",
       "  '/us/en/district-of-columbia/washington-dc/restaurant/bidwell',\n",
       "  '/us/en/district-of-columbia/washington-dc/restaurant/elcielo-d-c',\n",
       "  '/us/en/district-of-columbia/washington-dc/restaurant/the-red-hen',\n",
       "  '/us/en/district-of-columbia/washington-dc/restaurant/stellina-pizzeria'],\n",
       " ['/us/en/district-of-columbia/washington-dc/restaurant/hitching-post',\n",
       "  '/us/en/district-of-columbia/washington-dc/restaurant/timber-pizza-co',\n",
       "  '/us/en/district-of-columbia/washington-dc/restaurant/menya-hosaki',\n",
       "  '/us/en/district-of-columbia/washington-dc/restaurant/honeymoon-chicken',\n",
       "  '/us/en/district-of-columbia/washington-dc/restaurant/tsehay',\n",
       "  '/us/en/district-of-columbia/washington-dc/restaurant/taqueria-habanero',\n",
       "  '/us/en/district-of-columbia/washington-dc/restaurant/gravitas',\n",
       "  '/us/en/district-of-columbia/washington-dc/restaurant/ivy-city-smokehouse',\n",
       "  '/us/en/district-of-columbia/washington-dc/restaurant/queen’s-english',\n",
       "  '/us/en/district-of-columbia/washington-dc/restaurant/makan',\n",
       "  '/us/en/district-of-columbia/washington-dc/restaurant/thip-khao',\n",
       "  '/us/en/district-of-columbia/washington-dc/restaurant/bad-saint',\n",
       "  '/us/en/district-of-columbia/washington-dc/restaurant/sfoglina',\n",
       "  '/us/en/district-of-columbia/washington-dc/restaurant/elle',\n",
       "  '/us/en/district-of-columbia/washington-dc/restaurant/masseria',\n",
       "  '/us/en/district-of-columbia/washington-dc/restaurant/rappahannock-oyster-bar',\n",
       "  '/us/en/district-of-columbia/washington-dc/restaurant/bidwell',\n",
       "  '/us/en/district-of-columbia/washington-dc/restaurant/elcielo-d-c',\n",
       "  '/us/en/district-of-columbia/washington-dc/restaurant/the-red-hen',\n",
       "  '/us/en/district-of-columbia/washington-dc/restaurant/stellina-pizzeria']]"
      ]
     },
     "execution_count": 4,
     "metadata": {},
     "output_type": "execute_result"
    }
   ],
   "source": [
    "restaurant_urls"
   ]
  },
  {
   "cell_type": "code",
   "execution_count": 10,
   "id": "793616ad",
   "metadata": {},
   "outputs": [],
   "source": [
    "restaurant_urls_flat = list(more_itertools.flatten(restaurant_urls))"
   ]
  },
  {
   "cell_type": "code",
   "execution_count": 11,
   "id": "60b6371e",
   "metadata": {},
   "outputs": [
    {
     "data": {
      "text/plain": [
       "['/us/en/district-of-columbia/washington-dc/restaurant/hitching-post',\n",
       " '/us/en/district-of-columbia/washington-dc/restaurant/timber-pizza-co',\n",
       " '/us/en/district-of-columbia/washington-dc/restaurant/menya-hosaki',\n",
       " '/us/en/district-of-columbia/washington-dc/restaurant/honeymoon-chicken',\n",
       " '/us/en/district-of-columbia/washington-dc/restaurant/tsehay',\n",
       " '/us/en/district-of-columbia/washington-dc/restaurant/taqueria-habanero',\n",
       " '/us/en/district-of-columbia/washington-dc/restaurant/gravitas',\n",
       " '/us/en/district-of-columbia/washington-dc/restaurant/ivy-city-smokehouse',\n",
       " '/us/en/district-of-columbia/washington-dc/restaurant/queen’s-english',\n",
       " '/us/en/district-of-columbia/washington-dc/restaurant/makan',\n",
       " '/us/en/district-of-columbia/washington-dc/restaurant/thip-khao',\n",
       " '/us/en/district-of-columbia/washington-dc/restaurant/bad-saint',\n",
       " '/us/en/district-of-columbia/washington-dc/restaurant/sfoglina',\n",
       " '/us/en/district-of-columbia/washington-dc/restaurant/elle',\n",
       " '/us/en/district-of-columbia/washington-dc/restaurant/masseria',\n",
       " '/us/en/district-of-columbia/washington-dc/restaurant/rappahannock-oyster-bar',\n",
       " '/us/en/district-of-columbia/washington-dc/restaurant/bidwell',\n",
       " '/us/en/district-of-columbia/washington-dc/restaurant/elcielo-d-c',\n",
       " '/us/en/district-of-columbia/washington-dc/restaurant/the-red-hen',\n",
       " '/us/en/district-of-columbia/washington-dc/restaurant/stellina-pizzeria',\n",
       " '/us/en/district-of-columbia/washington-dc/restaurant/hitching-post',\n",
       " '/us/en/district-of-columbia/washington-dc/restaurant/timber-pizza-co',\n",
       " '/us/en/district-of-columbia/washington-dc/restaurant/menya-hosaki',\n",
       " '/us/en/district-of-columbia/washington-dc/restaurant/honeymoon-chicken',\n",
       " '/us/en/district-of-columbia/washington-dc/restaurant/tsehay',\n",
       " '/us/en/district-of-columbia/washington-dc/restaurant/taqueria-habanero',\n",
       " '/us/en/district-of-columbia/washington-dc/restaurant/gravitas',\n",
       " '/us/en/district-of-columbia/washington-dc/restaurant/ivy-city-smokehouse',\n",
       " '/us/en/district-of-columbia/washington-dc/restaurant/queen’s-english',\n",
       " '/us/en/district-of-columbia/washington-dc/restaurant/makan',\n",
       " '/us/en/district-of-columbia/washington-dc/restaurant/thip-khao',\n",
       " '/us/en/district-of-columbia/washington-dc/restaurant/bad-saint',\n",
       " '/us/en/district-of-columbia/washington-dc/restaurant/sfoglina',\n",
       " '/us/en/district-of-columbia/washington-dc/restaurant/elle',\n",
       " '/us/en/district-of-columbia/washington-dc/restaurant/masseria',\n",
       " '/us/en/district-of-columbia/washington-dc/restaurant/rappahannock-oyster-bar',\n",
       " '/us/en/district-of-columbia/washington-dc/restaurant/bidwell',\n",
       " '/us/en/district-of-columbia/washington-dc/restaurant/elcielo-d-c',\n",
       " '/us/en/district-of-columbia/washington-dc/restaurant/the-red-hen',\n",
       " '/us/en/district-of-columbia/washington-dc/restaurant/stellina-pizzeria']"
      ]
     },
     "execution_count": 11,
     "metadata": {},
     "output_type": "execute_result"
    }
   ],
   "source": [
    "restaurant_urls_flat"
   ]
  },
  {
   "cell_type": "code",
   "execution_count": null,
   "id": "a237f4e0",
   "metadata": {},
   "outputs": [],
   "source": [
    "df = pd.DataFrame (restaurant_urls_flat, columns = ['website_paths'])"
   ]
  },
  {
   "cell_type": "code",
   "execution_count": null,
   "id": "133f7149",
   "metadata": {},
   "outputs": [],
   "source": [
    "filepath = '../data/'\n",
    "df.to_csv(filepath)  "
   ]
  },
  {
   "cell_type": "code",
   "execution_count": null,
   "id": "10981345",
   "metadata": {},
   "outputs": [],
   "source": []
  }
 ],
 "metadata": {
  "kernelspec": {
   "display_name": "Python 3 (ipykernel)",
   "language": "python",
   "name": "python3"
  },
  "language_info": {
   "codemirror_mode": {
    "name": "ipython",
    "version": 3
   },
   "file_extension": ".py",
   "mimetype": "text/x-python",
   "name": "python",
   "nbconvert_exporter": "python",
   "pygments_lexer": "ipython3",
   "version": "3.9.7"
  }
 },
 "nbformat": 4,
 "nbformat_minor": 5
}
