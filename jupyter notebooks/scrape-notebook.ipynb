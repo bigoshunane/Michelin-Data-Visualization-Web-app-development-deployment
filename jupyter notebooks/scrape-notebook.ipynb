{
 "cells": [
  {
   "cell_type": "code",
   "execution_count": 15,
   "id": "109a3f3d",
   "metadata": {},
   "outputs": [
    {
     "name": "stderr",
     "output_type": "stream",
     "text": [
      "\n",
      "\n",
      "====== WebDriver manager ======\n",
      "Current google-chrome version is 101.0.4951\n",
      "Get LATEST chromedriver version for 101.0.4951 google-chrome\n",
      "Driver [/Users/joshuabuckwalter/.wdm/drivers/chromedriver/mac64/101.0.4951.41/chromedriver] found in cache\n"
     ]
    },
    {
     "name": "stdout",
     "output_type": "stream",
     "text": [
      "1\n",
      "2\n",
      "Finished\n"
     ]
    }
   ],
   "source": [
    "# Dependencies\n",
    "from bs4 import BeautifulSoup\n",
    "import requests\n",
    "from flask_pymongo import PyMongo\n",
    "from splinter import Browser\n",
    "from bs4 import BeautifulSoup as bs\n",
    "import time\n",
    "from webdriver_manager.chrome import ChromeDriverManager\n",
    "import pandas as pd\n",
    "import pprint\n",
    "\n",
    "\n",
    "#scraping urls\n",
    "\n",
    "michelin_rest_url_a = 'https://guide.michelin.com/us/en/restaurants/page/'\n",
    "\n",
    "mich_description_url = ''\n",
    "\n",
    "\n",
    "#set up browser and parser\n",
    "executable_path = {'executable_path': ChromeDriverManager().install()}\n",
    "browser = Browser('chrome', **executable_path, headless=False)\n",
    "\n",
    "# set up collection\n",
    "\n",
    "restaurant_url_count = 5\n",
    "count = 0\n",
    "restaurant_urls = []\n",
    "\n",
    "\n",
    "for x in range(2):\n",
    "    # retrieve michelin restaurant urls\n",
    "    x_string = str(count)\n",
    "    browser.visit(michelin_rest_url_a + x_string)\n",
    "    time.sleep(5)\n",
    "    html = browser.html\n",
    "    soup = bs(html, 'html.parser')\n",
    "    restaurant_urls.append([a['href'] for a in soup.find_all('a', class_=\"link\", href=True)])\n",
    "    count = count + 1\n",
    "    print(count)\n",
    "    \n",
    "\n",
    "print('Finished')\n"
   ]
  },
  {
   "cell_type": "code",
   "execution_count": 16,
   "id": "677c0f9c",
   "metadata": {},
   "outputs": [
    {
     "data": {
      "text/plain": [
       "[['/us/en/district-of-columbia/washington-dc/restaurant/hitching-post',\n",
       "  '/us/en/district-of-columbia/washington-dc/restaurant/timber-pizza-co',\n",
       "  '/us/en/district-of-columbia/washington-dc/restaurant/menya-hosaki',\n",
       "  '/us/en/district-of-columbia/washington-dc/restaurant/honeymoon-chicken',\n",
       "  '/us/en/district-of-columbia/washington-dc/restaurant/tsehay',\n",
       "  '/us/en/district-of-columbia/washington-dc/restaurant/taqueria-habanero',\n",
       "  '/us/en/district-of-columbia/washington-dc/restaurant/gravitas',\n",
       "  '/us/en/district-of-columbia/washington-dc/restaurant/ivy-city-smokehouse',\n",
       "  '/us/en/district-of-columbia/washington-dc/restaurant/queen’s-english',\n",
       "  '/us/en/district-of-columbia/washington-dc/restaurant/makan',\n",
       "  '/us/en/district-of-columbia/washington-dc/restaurant/thip-khao',\n",
       "  '/us/en/district-of-columbia/washington-dc/restaurant/bad-saint',\n",
       "  '/us/en/district-of-columbia/washington-dc/restaurant/sfoglina',\n",
       "  '/us/en/district-of-columbia/washington-dc/restaurant/elle',\n",
       "  '/us/en/district-of-columbia/washington-dc/restaurant/masseria',\n",
       "  '/us/en/district-of-columbia/washington-dc/restaurant/rappahannock-oyster-bar',\n",
       "  '/us/en/district-of-columbia/washington-dc/restaurant/bidwell',\n",
       "  '/us/en/district-of-columbia/washington-dc/restaurant/elcielo-d-c',\n",
       "  '/us/en/district-of-columbia/washington-dc/restaurant/the-red-hen',\n",
       "  '/us/en/district-of-columbia/washington-dc/restaurant/stellina-pizzeria'],\n",
       " ['/us/en/district-of-columbia/washington-dc/restaurant/hitching-post',\n",
       "  '/us/en/district-of-columbia/washington-dc/restaurant/timber-pizza-co',\n",
       "  '/us/en/district-of-columbia/washington-dc/restaurant/menya-hosaki',\n",
       "  '/us/en/district-of-columbia/washington-dc/restaurant/honeymoon-chicken',\n",
       "  '/us/en/district-of-columbia/washington-dc/restaurant/tsehay',\n",
       "  '/us/en/district-of-columbia/washington-dc/restaurant/taqueria-habanero',\n",
       "  '/us/en/district-of-columbia/washington-dc/restaurant/gravitas',\n",
       "  '/us/en/district-of-columbia/washington-dc/restaurant/ivy-city-smokehouse',\n",
       "  '/us/en/district-of-columbia/washington-dc/restaurant/queen’s-english',\n",
       "  '/us/en/district-of-columbia/washington-dc/restaurant/makan',\n",
       "  '/us/en/district-of-columbia/washington-dc/restaurant/thip-khao',\n",
       "  '/us/en/district-of-columbia/washington-dc/restaurant/bad-saint',\n",
       "  '/us/en/district-of-columbia/washington-dc/restaurant/sfoglina',\n",
       "  '/us/en/district-of-columbia/washington-dc/restaurant/elle',\n",
       "  '/us/en/district-of-columbia/washington-dc/restaurant/masseria',\n",
       "  '/us/en/district-of-columbia/washington-dc/restaurant/rappahannock-oyster-bar',\n",
       "  '/us/en/district-of-columbia/washington-dc/restaurant/bidwell',\n",
       "  '/us/en/district-of-columbia/washington-dc/restaurant/elcielo-d-c',\n",
       "  '/us/en/district-of-columbia/washington-dc/restaurant/the-red-hen',\n",
       "  '/us/en/district-of-columbia/washington-dc/restaurant/stellina-pizzeria']]"
      ]
     },
     "execution_count": 16,
     "metadata": {},
     "output_type": "execute_result"
    }
   ],
   "source": [
    "restaurant_urls"
   ]
  },
  {
   "cell_type": "code",
   "execution_count": null,
   "id": "eb57aece",
   "metadata": {},
   "outputs": [],
   "source": [
    "number = 999\n",
    ">>> number_as_string = str(number)\n",
    ">>> number_as_string"
   ]
  },
  {
   "cell_type": "code",
   "execution_count": null,
   "id": "c468b882",
   "metadata": {},
   "outputs": [],
   "source": []
  }
 ],
 "metadata": {
  "kernelspec": {
   "display_name": "Python 3 (ipykernel)",
   "language": "python",
   "name": "python3"
  },
  "language_info": {
   "codemirror_mode": {
    "name": "ipython",
    "version": 3
   },
   "file_extension": ".py",
   "mimetype": "text/x-python",
   "name": "python",
   "nbconvert_exporter": "python",
   "pygments_lexer": "ipython3",
   "version": "3.9.7"
  }
 },
 "nbformat": 4,
 "nbformat_minor": 5
}
