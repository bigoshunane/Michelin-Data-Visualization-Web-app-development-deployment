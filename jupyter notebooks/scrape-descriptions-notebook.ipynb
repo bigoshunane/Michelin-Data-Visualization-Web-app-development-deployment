{
 "cells": [
  {
   "cell_type": "code",
   "execution_count": 1,
   "id": "daf67264",
   "metadata": {},
   "outputs": [],
   "source": [
    "import csv\n",
    "\n",
    "with open('../data/website_paths.csv') as csvfile:\n",
    "    url_extension = csv.writer(csvfile, dialect='unix')"
   ]
  },
  {
   "cell_type": "code",
   "execution_count": 9,
   "id": "26ee24b6",
   "metadata": {},
   "outputs": [],
   "source": [
    "df = pd.read_csv ('../data/website_paths.csv')"
   ]
  },
  {
   "cell_type": "code",
   "execution_count": 10,
   "id": "6dc1271b",
   "metadata": {},
   "outputs": [
    {
     "data": {
      "text/html": [
       "<div>\n",
       "<style scoped>\n",
       "    .dataframe tbody tr th:only-of-type {\n",
       "        vertical-align: middle;\n",
       "    }\n",
       "\n",
       "    .dataframe tbody tr th {\n",
       "        vertical-align: top;\n",
       "    }\n",
       "\n",
       "    .dataframe thead th {\n",
       "        text-align: right;\n",
       "    }\n",
       "</style>\n",
       "<table border=\"1\" class=\"dataframe\">\n",
       "  <thead>\n",
       "    <tr style=\"text-align: right;\">\n",
       "      <th></th>\n",
       "      <th>Unnamed: 0</th>\n",
       "      <th>website_paths</th>\n",
       "    </tr>\n",
       "  </thead>\n",
       "  <tbody>\n",
       "    <tr>\n",
       "      <th>0</th>\n",
       "      <td>0</td>\n",
       "      <td>/us/en/district-of-columbia/washington-dc/rest...</td>\n",
       "    </tr>\n",
       "    <tr>\n",
       "      <th>1</th>\n",
       "      <td>1</td>\n",
       "      <td>/us/en/district-of-columbia/washington-dc/rest...</td>\n",
       "    </tr>\n",
       "    <tr>\n",
       "      <th>2</th>\n",
       "      <td>2</td>\n",
       "      <td>/us/en/district-of-columbia/washington-dc/rest...</td>\n",
       "    </tr>\n",
       "    <tr>\n",
       "      <th>3</th>\n",
       "      <td>3</td>\n",
       "      <td>/us/en/district-of-columbia/washington-dc/rest...</td>\n",
       "    </tr>\n",
       "    <tr>\n",
       "      <th>4</th>\n",
       "      <td>4</td>\n",
       "      <td>/us/en/district-of-columbia/washington-dc/rest...</td>\n",
       "    </tr>\n",
       "    <tr>\n",
       "      <th>...</th>\n",
       "      <td>...</td>\n",
       "      <td>...</td>\n",
       "    </tr>\n",
       "    <tr>\n",
       "      <th>1375</th>\n",
       "      <td>1375</td>\n",
       "      <td>/us/en/california/culver-city/restaurant/destr...</td>\n",
       "    </tr>\n",
       "    <tr>\n",
       "      <th>1376</th>\n",
       "      <td>1376</td>\n",
       "      <td>/us/en/california/beverly-hills/restaurant/guc...</td>\n",
       "    </tr>\n",
       "    <tr>\n",
       "      <th>1377</th>\n",
       "      <td>1377</td>\n",
       "      <td>/us/en/california/beverly-hills/restaurant/cut...</td>\n",
       "    </tr>\n",
       "    <tr>\n",
       "      <th>1378</th>\n",
       "      <td>1378</td>\n",
       "      <td>/us/en/california/beverly-hills/restaurant/maude</td>\n",
       "    </tr>\n",
       "    <tr>\n",
       "      <th>1379</th>\n",
       "      <td>1379</td>\n",
       "      <td>/us/en/california/beverly-hills/restaurant/mirame</td>\n",
       "    </tr>\n",
       "  </tbody>\n",
       "</table>\n",
       "<p>1380 rows × 2 columns</p>\n",
       "</div>"
      ],
      "text/plain": [
       "      Unnamed: 0                                      website_paths\n",
       "0              0  /us/en/district-of-columbia/washington-dc/rest...\n",
       "1              1  /us/en/district-of-columbia/washington-dc/rest...\n",
       "2              2  /us/en/district-of-columbia/washington-dc/rest...\n",
       "3              3  /us/en/district-of-columbia/washington-dc/rest...\n",
       "4              4  /us/en/district-of-columbia/washington-dc/rest...\n",
       "...          ...                                                ...\n",
       "1375        1375  /us/en/california/culver-city/restaurant/destr...\n",
       "1376        1376  /us/en/california/beverly-hills/restaurant/guc...\n",
       "1377        1377  /us/en/california/beverly-hills/restaurant/cut...\n",
       "1378        1378   /us/en/california/beverly-hills/restaurant/maude\n",
       "1379        1379  /us/en/california/beverly-hills/restaurant/mirame\n",
       "\n",
       "[1380 rows x 2 columns]"
      ]
     },
     "execution_count": 10,
     "metadata": {},
     "output_type": "execute_result"
    }
   ],
   "source": [
    "df"
   ]
  },
  {
   "cell_type": "code",
   "execution_count": 5,
   "id": "74eacee4",
   "metadata": {},
   "outputs": [],
   "source": [
    "# Dependencies\n",
    "from bs4 import BeautifulSoup\n",
    "import requests\n",
    "#from flask_pymongo import PyMongo\n",
    "from splinter import Browser\n",
    "from bs4 import BeautifulSoup as bs\n",
    "import time\n",
    "from webdriver_manager.chrome import ChromeDriverManager\n",
    "import pandas as pd\n",
    "import pprint\n",
    "import more_itertools"
   ]
  },
  {
   "cell_type": "code",
   "execution_count": 6,
   "id": "fe9f7a7a",
   "metadata": {},
   "outputs": [
    {
     "name": "stderr",
     "output_type": "stream",
     "text": [
      "\n",
      "\n",
      "====== WebDriver manager ======\n",
      "Current google-chrome version is 102.0.5005\n",
      "Get LATEST chromedriver version for 102.0.5005 google-chrome\n",
      "There is no [mac64] chromedriver for browser  in cache\n",
      "Trying to download new driver from https://chromedriver.storage.googleapis.com/102.0.5005.61/chromedriver_mac64.zip\n",
      "Driver has been saved in cache [/Users/noreenjordan/.wdm/drivers/chromedriver/mac64/102.0.5005.61]\n"
     ]
    },
    {
     "name": "stdout",
     "output_type": "stream",
     "text": [
      "1\n",
      "2\n",
      "3\n",
      "4\n",
      "Finished\n"
     ]
    }
   ],
   "source": [
    "#scraping urls\n",
    "\n",
    "michelin_rest_url_a = 'https://guide.michelin.com'\n",
    "\n",
    "\n",
    "#set up browser and parser\n",
    "executable_path = {'executable_path': ChromeDriverManager().install()}\n",
    "browser = Browser('chrome', **executable_path, headless=False)\n",
    "\n",
    "# set up collection\n",
    "\n",
    "restaurant_url_count = 5\n",
    "count = 0\n",
    "restaurant_descriptions = []\n",
    "\n",
    "\n",
    "for x in df['website_paths']:\n",
    "    # retrieve michelin restaurant urls\n",
    "    #x_string = str(count)\n",
    "    browser.visit(michelin_rest_url_a + x)\n",
    "    time.sleep(5)\n",
    "    browser.find_by_css('.restaurant-details__description-show-button').first.click()\n",
    "    html = browser.html\n",
    "    soup = bs(html, 'html.parser')\n",
    "    restaurant_descriptions.append([soup.find_all('div', class_=\"js-show-description-text\")])\n",
    "    count = count + 1\n",
    "    print(count)\n",
    "    \n",
    "\n",
    "print('Finished')"
   ]
  },
  {
   "cell_type": "code",
   "execution_count": 7,
   "id": "2506e1e1",
   "metadata": {},
   "outputs": [
    {
     "data": {
      "text/plain": [
       "[[[<div class=\"js-show-description-text\">\n",
       "   <p>Chef Barry Dindyal is the talent behind this prominent and retro Petworth destination. Diners here will find that time mostly stands still inside, thanks to a simple (by design) aesthetic, dominated by wood with hints of orange, pleather booths and a buzzy bar. Throwback decor aside, most diners are here for the chef's delicate rendition of beloved Southern classics. <br/>Crisp, tender and enticingly juicy, fried chicken takes center stage. Like most other items on this menu, it is made-to-order daily and absolutely worth the wait. When coupled with succulent vegan collard greens or homemade French fries, it transforms into a heartwarming delight. Can't manage another morsel? A taste of the lemon cake slathered with butter cream will change your mind in a flash.</p>\n",
       "   </div>]],\n",
       " [[<div class=\"js-show-description-text\">\n",
       "   <p></p><p>It may be the signature cry for falling objects, but Timber Pizza Co is only on its way up. This popular neighborhood hangout is on a mounting spiral after transitioning from a farmer’s market fave to a brick-and-mortar crowd magnet that also boasts a booming takeout business.</p>\n",
       "   <p>So what’s all the fuss about? It’s the flavorful cooking, of course. A few bites into the Griffin salad and it’s clear this kitchen knows how to handle itself. Those in the know order a half and half to explore the wide variety of pizzas. The D&amp;D’s mix of za’atar, finely diced sweet peppers and garlic chips is inventively delicious; while The Hughes piles bacon, cherry tomatoes, jalapeños and basil atop a white cheese pie slathered with a subtle and sweet tomato sauce.</p><p></p>\n",
       "   </div>]],\n",
       " [[<div class=\"js-show-description-text\">\n",
       "   <p>Once a pop-up and now a full-fledged brick-and-mortar establishment, this young'un is making waves in the city’s ramen scene. The kitchen runs the length of this sleek, narrow space in Petworth; and the young chefs running it move about with the deftness of a team many years older. They are as focused as the menu, which is all ramen except for the karaage served with yuzu mayo.<br/>Carefully composed bowls feature thin, chewy, house-made noodles accompanied by delicate broths with nuance and depth. The signature bowl is a smoky, triple-threat combination of tonkotsu, chicken chintan and dashi. The soy-sauce-based truffle shoyu, which also features meaty cuts of pork belly, spinach and bamboo shoots, warrants slurping. Vegan ramen is also available.</p>\n",
       "   </div>]],\n",
       " [[<div class=\"js-show-description-text\">\n",
       "   <p>Chef Rob Sonderman of the Federalist Pig has expanded to chicken—well, an updated version of fried chicken to be precise. This Petworth perch resembles a modern diner with old-school vibes. Yellow-upholstered booths in alcoves are a haven of privacy, while the ubiquitous counter is best for solo guests.<br/>The menu, not unlike the concept, is focused. Guests can build their own bucket (or combo) and sandwich, which can be made with waffles. Starters like hot honey cauliflower; and sides like buttermilk smashed potatoes hit all the right spots. Spicy seasoning is an option for those who dare, but rolls—finished with honey butter and Maldon sea salt—are a must. Then comes the \"fancy fried chicken,\" which is brined for 24 hours and fried to crisp perfection.<br/><br/><br/> </p>\n",
       "   </div>]]]"
      ]
     },
     "execution_count": 7,
     "metadata": {},
     "output_type": "execute_result"
    }
   ],
   "source": [
    "restaurant_descriptions"
   ]
  },
  {
   "cell_type": "code",
   "execution_count": 10,
   "id": "793616ad",
   "metadata": {},
   "outputs": [],
   "source": [
    "restaurant_urls_flat = list(more_itertools.flatten(restaurant_urls))"
   ]
  },
  {
   "cell_type": "code",
   "execution_count": 21,
   "id": "60b6371e",
   "metadata": {},
   "outputs": [
    {
     "ename": "NameError",
     "evalue": "name 'restaurant_urls_flat' is not defined",
     "output_type": "error",
     "traceback": [
      "\u001b[0;31m---------------------------------------------------------------------------\u001b[0m",
      "\u001b[0;31mNameError\u001b[0m                                 Traceback (most recent call last)",
      "\u001b[0;32m/var/folders/tb/284z5t112fdcqbwthgkr8gx40000gp/T/ipykernel_24644/1429798945.py\u001b[0m in \u001b[0;36m<module>\u001b[0;34m\u001b[0m\n\u001b[0;32m----> 1\u001b[0;31m \u001b[0mrestaurant_urls_flat\u001b[0m\u001b[0;34m\u001b[0m\u001b[0;34m\u001b[0m\u001b[0m\n\u001b[0m",
      "\u001b[0;31mNameError\u001b[0m: name 'restaurant_urls_flat' is not defined"
     ]
    }
   ],
   "source": [
    "restaurant_urls_flat"
   ]
  },
  {
   "cell_type": "code",
   "execution_count": null,
   "id": "a237f4e0",
   "metadata": {},
   "outputs": [],
   "source": [
    "df = pd.DataFrame (restaurant_urls_flat, columns = ['website_paths'])"
   ]
  },
  {
   "cell_type": "code",
   "execution_count": null,
   "id": "133f7149",
   "metadata": {},
   "outputs": [],
   "source": [
    "filepath = '../data/'\n",
    "df.to_csv(filepath)  "
   ]
  },
  {
   "cell_type": "code",
   "execution_count": null,
   "id": "10981345",
   "metadata": {},
   "outputs": [],
   "source": []
  }
 ],
 "metadata": {
  "kernelspec": {
   "display_name": "Python 3 (ipykernel)",
   "language": "python",
   "name": "python3"
  },
  "language_info": {
   "codemirror_mode": {
    "name": "ipython",
    "version": 3
   },
   "file_extension": ".py",
   "mimetype": "text/x-python",
   "name": "python",
   "nbconvert_exporter": "python",
   "pygments_lexer": "ipython3",
   "version": "3.9.7"
  }
 },
 "nbformat": 4,
 "nbformat_minor": 5
}
