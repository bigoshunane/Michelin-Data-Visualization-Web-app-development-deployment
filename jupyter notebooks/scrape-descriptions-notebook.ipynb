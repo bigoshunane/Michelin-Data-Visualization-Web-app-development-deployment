{
 "cells": [
  {
   "cell_type": "code",
   "execution_count": 3,
   "id": "daf67264",
   "metadata": {},
   "outputs": [],
   "source": [
    "import csv\n",
    "\n",
    "with open('../data/website_paths.csv') as csvfile:\n",
    "    url_extension = csv.writer(csvfile, dialect='unix')"
   ]
  },
  {
   "cell_type": "code",
   "execution_count": 4,
   "id": "6dc1271b",
   "metadata": {},
   "outputs": [
    {
     "data": {
      "text/plain": [
       "['/us/en/district-of-columbia/washington-dc/restaurant/hitching-post',\n",
       " '/us/en/district-of-columbia/washington-dc/restaurant/timber-pizza-co',\n",
       " '/us/en/district-of-columbia/washington-dc/restaurant/menya-hosaki',\n",
       " '/us/en/district-of-columbia/washington-dc/restaurant/honeymoon-chicken']"
      ]
     },
     "execution_count": 4,
     "metadata": {},
     "output_type": "execute_result"
    }
   ],
   "source": [
    "test"
   ]
  },
  {
   "cell_type": "code",
   "execution_count": 2,
   "id": "74eacee4",
   "metadata": {},
   "outputs": [],
   "source": [
    "# Dependencies\n",
    "from bs4 import BeautifulSoup\n",
    "import requests\n",
    "#from flask_pymongo import PyMongo\n",
    "from splinter import Browser\n",
    "from bs4 import BeautifulSoup as bs\n",
    "import time\n",
    "from webdriver_manager.chrome import ChromeDriverManager\n",
    "import pandas as pd\n",
    "import pprint\n",
    "import more_itertools"
   ]
  },
  {
   "cell_type": "code",
   "execution_count": null,
   "id": "fe9f7a7a",
   "metadata": {},
   "outputs": [
    {
     "name": "stderr",
     "output_type": "stream",
     "text": [
      "\n",
      "\n",
      "====== WebDriver manager ======\n",
      "Current google-chrome version is 101.0.4951\n",
      "Get LATEST chromedriver version for 101.0.4951 google-chrome\n",
      "Driver [/Users/josephneff/.wdm/drivers/chromedriver/mac64/101.0.4951.41/chromedriver] found in cache\n"
     ]
    }
   ],
   "source": [
    "#scraping urls\n",
    "\n",
    "michelin_rest_url_a = 'https://guide.michelin.com'\n",
    "\n",
    "\n",
    "#set up browser and parser\n",
    "executable_path = {'executable_path': ChromeDriverManager().install()}\n",
    "browser = Browser('chrome', **executable_path, headless=False)\n",
    "\n",
    "# set up collection\n",
    "\n",
    "restaurant_url_count = 5\n",
    "count = 0\n",
    "restaurant_descriptions = []\n",
    "\n",
    "\n",
    "for x in test:\n",
    "    # retrieve michelin restaurant urls\n",
    "    #x_string = str(count)\n",
    "    browser.visit(michelin_rest_url_a + x)\n",
    "    time.sleep(5)\n",
    "    html = browser.html\n",
    "    soup = bs(html, 'html.parser')\n",
    "    restaurant_descriptions.append([soup.find_all('div', class_=\"js-show-description-text\")])\n",
    "    count = count + 1\n",
    "    print(count)\n",
    "    \n",
    "\n",
    "print('Finished')"
   ]
  },
  {
   "cell_type": "code",
   "execution_count": 40,
   "id": "2506e1e1",
   "metadata": {},
   "outputs": [
    {
     "data": {
      "text/plain": [
       "[[<div class=\"js-show-description-text\"><p>Chef Barry Dindyal is the talent behind this prominent and retro Petworth destination. Diners here will find that time mostly stands still inside, thanks to a simple (by design) aesthetic, dominated by wood with hints of orange, pleather booths and a buzzy bar. Throwback decor aside, most diners are here for <span>...</span></p></div>],\n",
       " [<div class=\"js-show-description-text\"><p></p><p>It may be the signature cry for falling objects, but Timber Pizza Co is only on its way up. This popular neighborhood hangout is on a mounting spiral after transitioning from a farmer’s market fave to a brick-and-mortar crowd magnet that also boasts a booming takeout business.</p><p>So what’s <span>...</span></p></div>],\n",
       " [<div class=\"js-show-description-text\"><p>Once a pop-up and now a full-fledged brick-and-mortar establishment, this young'un is making waves in the city’s ramen scene. The kitchen runs the length of this sleek, narrow space in Petworth; and the young chefs running it move about with the deftness of a team many years older. They are <span>...</span></p></div>],\n",
       " [<div class=\"js-show-description-text\"><p>Chef Rob Sonderman of the Federalist Pig has expanded to chicken—well, an updated version of fried chicken to be precise. This Petworth perch resembles a modern diner with old-school vibes. Yellow-upholstered booths in alcoves are a haven of privacy, while the ubiquitous counter is best for solo guests.<br/>The menu, not <span>...</span></p></div>]]"
      ]
     },
     "execution_count": 40,
     "metadata": {},
     "output_type": "execute_result"
    }
   ],
   "source": [
    "restaurant_descriptions"
   ]
  },
  {
   "cell_type": "code",
   "execution_count": 10,
   "id": "793616ad",
   "metadata": {},
   "outputs": [],
   "source": [
    "restaurant_urls_flat = list(more_itertools.flatten(restaurant_urls))"
   ]
  },
  {
   "cell_type": "code",
   "execution_count": 21,
   "id": "60b6371e",
   "metadata": {},
   "outputs": [
    {
     "ename": "NameError",
     "evalue": "name 'restaurant_urls_flat' is not defined",
     "output_type": "error",
     "traceback": [
      "\u001b[0;31m---------------------------------------------------------------------------\u001b[0m",
      "\u001b[0;31mNameError\u001b[0m                                 Traceback (most recent call last)",
      "\u001b[0;32m/var/folders/tb/284z5t112fdcqbwthgkr8gx40000gp/T/ipykernel_24644/1429798945.py\u001b[0m in \u001b[0;36m<module>\u001b[0;34m\u001b[0m\n\u001b[0;32m----> 1\u001b[0;31m \u001b[0mrestaurant_urls_flat\u001b[0m\u001b[0;34m\u001b[0m\u001b[0;34m\u001b[0m\u001b[0m\n\u001b[0m",
      "\u001b[0;31mNameError\u001b[0m: name 'restaurant_urls_flat' is not defined"
     ]
    }
   ],
   "source": [
    "restaurant_urls_flat"
   ]
  },
  {
   "cell_type": "code",
   "execution_count": null,
   "id": "a237f4e0",
   "metadata": {},
   "outputs": [],
   "source": [
    "df = pd.DataFrame (restaurant_urls_flat, columns = ['website_paths'])"
   ]
  },
  {
   "cell_type": "code",
   "execution_count": null,
   "id": "133f7149",
   "metadata": {},
   "outputs": [],
   "source": [
    "filepath = '../data/'\n",
    "df.to_csv(filepath)  "
   ]
  },
  {
   "cell_type": "code",
   "execution_count": null,
   "id": "10981345",
   "metadata": {},
   "outputs": [],
   "source": []
  }
 ],
 "metadata": {
  "kernelspec": {
   "display_name": "Python 3 (ipykernel)",
   "language": "python",
   "name": "python3"
  },
  "language_info": {
   "codemirror_mode": {
    "name": "ipython",
    "version": 3
   },
   "file_extension": ".py",
   "mimetype": "text/x-python",
   "name": "python",
   "nbconvert_exporter": "python",
   "pygments_lexer": "ipython3",
   "version": "3.9.7"
  }
 },
 "nbformat": 4,
 "nbformat_minor": 5
}
