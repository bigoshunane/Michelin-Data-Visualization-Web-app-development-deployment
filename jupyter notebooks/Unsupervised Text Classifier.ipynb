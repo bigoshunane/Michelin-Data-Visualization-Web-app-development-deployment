{
 "cells": [
  {
   "cell_type": "code",
   "execution_count": null,
   "id": "9e8834e7",
   "metadata": {},
   "outputs": [],
   "source": [
    "import pandas as pd"
   ]
  },
  {
   "cell_type": "code",
   "execution_count": null,
   "id": "3e98eb4a",
   "metadata": {},
   "outputs": [],
   "source": [
    "# https://scikit-learn.org/stable/datasets/real_world.html#the-20-newsgroups-text-dataset \n",
    "from sklearn.datasets import fetch_20newsgroups\n",
    "\n",
    "bunch = fetch_20newsgroups(remove=('headers','filenames'))\n",
    "\n",
    "print(type(bunch), bunch.keys())\n",
    "# (sklearn.utils.Bunch, dict_keys(['data', 'filenames', 'target_names', 'target', 'DESCR']))"
   ]
  },
  {
   "cell_type": "code",
   "execution_count": null,
   "id": "91d95683",
   "metadata": {},
   "outputs": [],
   "source": [
    "df = pd.DataFrame({\"text\":bunch.data,\"target\":bunch.target})\n",
    "df[\"label\"] = df.apply(lambda row: bunch.target_names[row[\"target\"]], axis=1)\n",
    "df[\"clean\"] = df.apply(lambda row: ' '.join([word for word in row[\"text\"].split() if word.isalnum()]), axis=1)"
   ]
  },
  {
   "cell_type": "code",
   "execution_count": null,
   "id": "b051f451",
   "metadata": {},
   "outputs": [],
   "source": [
    "df.iloc[0][\"text\"]"
   ]
  },
  {
   "cell_type": "code",
   "execution_count": null,
   "id": "c5771df0",
   "metadata": {},
   "outputs": [],
   "source": [
    "from sklearn.feature_extraction.text import TfidfVectorizer\n",
    "\n",
    "vec = TfidfVectorizer(max_features=10_000,stop_words=\"english\")\n",
    "features = vec.fit_transform(df[\"clean\"])\n",
    "\n",
    "print(features.shape) # (11314, 10000)"
   ]
  },
  {
   "cell_type": "code",
   "execution_count": null,
   "id": "1f64b0c4",
   "metadata": {},
   "outputs": [],
   "source": [
    "from sklearn.neighbors import NearestNeighbors\n",
    "knn = NearestNeighbors(n_neighbors=5, metric='cosine',n_jobs=-1)\n",
    "knn.fit(features)"
   ]
  },
  {
   "cell_type": "code",
   "execution_count": null,
   "id": "4ce3a55c",
   "metadata": {},
   "outputs": [],
   "source": [
    "input_texts = [\"any recommendations for good ftp sites?\", \"i need to buy a new car\"]\n",
    "input_features = vec.transform(input_texts)\n",
    "\n",
    "D, N = knn.kneighbors(input_features, n_neighbors=3, return_distance=True)\n",
    "\n",
    "for input_text, distances, neighbors in zip(input_texts, D, N):\n",
    "    print(\"Input text = \", input_text[:200], \"\\n\")\n",
    "    for dist, neighbor_idx in zip(distances, neighbors):\n",
    "        print(\"Distance = \", dist, \"Neighbor idx = \", neighbor_idx, \"Label = \", \\\n",
    "              bunch.target_names[bunch.target[neighbor_idx]])\n",
    "        print(bunch.data[neighbor_idx][:200])\n",
    "        print(\"-\"*100)\n",
    "    print(\"=\"*100)\n",
    "    print()"
   ]
  },
  {
   "cell_type": "code",
   "execution_count": null,
   "id": "0e21e013",
   "metadata": {},
   "outputs": [],
   "source": [
    "df.iloc[2529][\"text\"]"
   ]
  },
  {
   "cell_type": "code",
   "execution_count": null,
   "id": "ed39caab",
   "metadata": {},
   "outputs": [],
   "source": []
  }
 ],
 "metadata": {
  "kernelspec": {
   "display_name": "Python 3 (ipykernel)",
   "language": "python",
   "name": "python3"
  },
  "language_info": {
   "codemirror_mode": {
    "name": "ipython",
    "version": 3
   },
   "file_extension": ".py",
   "mimetype": "text/x-python",
   "name": "python",
   "nbconvert_exporter": "python",
   "pygments_lexer": "ipython3",
   "version": "3.10.4"
  }
 },
 "nbformat": 4,
 "nbformat_minor": 5
}
